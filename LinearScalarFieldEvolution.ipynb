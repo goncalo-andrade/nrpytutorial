{
 "metadata": {
  "language_info": {
   "codemirror_mode": {
    "name": "ipython",
    "version": 3
   },
   "file_extension": ".py",
   "mimetype": "text/x-python",
   "name": "python",
   "nbconvert_exporter": "python",
   "pygments_lexer": "ipython3",
   "version": "3.7.7-final"
  },
  "orig_nbformat": 2,
  "kernelspec": {
   "name": "python37664bitanaconda3virtualenvbaa1e87ad1814c3fb3f3b13c475f2fca",
   "display_name": "Python 3.7.6 64-bit ('anaconda3': virtualenv)"
  }
 },
 "nbformat": 4,
 "nbformat_minor": 2,
 "cells": [
  {
   "cell_type": "markdown",
   "metadata": {},
   "source": [
    "# Import modules and set core NRPy+ parameters"
   ]
  },
  {
   "cell_type": "code",
   "execution_count": 1,
   "metadata": {},
   "outputs": [],
   "source": [
    "from outputC import lhrh, outCfunction, outC_function_dict\n",
    "import finite_difference as fin\n",
    "import NRPy_param_funcs as par\n",
    "import grid as gri\n",
    "import indexedexp as ixp\n",
    "import reference_metric as rfm\n",
    "import cmdline_helper as cmd\n",
    "import shutil, os, sys, time\n",
    "import pickle"
   ]
  },
  {
   "cell_type": "code",
   "execution_count": 2,
   "metadata": {},
   "outputs": [],
   "source": [
    "# Create C code output directory\n",
    "Ccodesdir = os.path.join(\"BSSN_LinearScalarFieldEvolution_Ccodes/\")\n",
    "# Remove C code output directory if it exists\n",
    "shutil.rmtree(Ccodesdir, ignore_errors=True)\n",
    "# Create a fresh directory\n",
    "cmd.mkdir(Ccodesdir)\n",
    "\n",
    "# Create executable output directory\n",
    "outdir = os.path.join(Ccodesdir, \"output/\")\n",
    "cmd.mkdir(outdir)"
   ]
  },
  {
   "cell_type": "code",
   "execution_count": 3,
   "metadata": {},
   "outputs": [],
   "source": [
    "# Set spatial dimension to 3\n",
    "par.set_parval_from_str(\"grid::DIM\", 3)\n",
    "DIM = par.parval_from_str(\"grid::DIM\")\n",
    "\n",
    "# Enable/Disable SIMD-optimised code\n",
    "SIMD_enable = True\n",
    "\n",
    "# If SIMD is enabled, copy SIMD_intrinsics.h to the C codes directory\n",
    "cmd.mkdir(os.path.join(Ccodesdir, \"SIMD/\"))\n",
    "if SIMD_enable == True:\n",
    "    shutil.copy(os.path.join(\"SIMD/\", \"SIMD_intrinsics.h\"), os.path.join(Ccodesdir, \"SIMD/\"))\n",
    "else:\n",
    "    with open(os.path.join(Ccodesdir, \"SIMD\", \"SIMD_intrinsics.h\"), \"w\") as file:\n",
    "        file.write(\"#define SIMD_IS_DISABLED\\n\")\n",
    "\n",
    "# Set coordinate system and call the reference metric\n",
    "CoordSystem = \"Spherical\"\n",
    "par.set_parval_from_str(\"reference_metric::CoordSystem\", CoordSystem)\n",
    "rfm.reference_metric()\n",
    "\n",
    "# Set domain size\n",
    "domain_size = 10\n",
    "\n",
    "# Set sinh width (for Sinh* coordinates)\n",
    "sinh_width = 0.4\n",
    "\n",
    "# Set finite differencing order\n",
    "FD_order = 4\n",
    "par.set_parval_from_str(\"finite_difference::FD_CENTDERIVS_ORDER\", FD_order)\n",
    "\n",
    "# Allow for the use of functions (instead of inline calculations) to compute finite differences\n",
    "FD_functions_enable = True\n",
    "par.set_parval_from_str(\"finite_difference::FD_functions_enable\", FD_functions_enable)\n",
    "\n",
    "# Set the core data type and the default CFL factor\n",
    "REAL = \"double\"\n",
    "default_CFL_FACTOR = 0.5\n",
    "\n",
    "# Set mass and spin of the Black Hole\n",
    "M = 1\n",
    "chi = 0.99"
   ]
  },
  {
   "cell_type": "code",
   "execution_count": 4,
   "metadata": {},
   "outputs": [],
   "source": [
    "# Generate Runge-Kutta timestepping code\n",
    "import MoLtimestepping.C_Code_Generation as MoL\n",
    "from MoLtimestepping.RK_Butcher_Table_Dictionary import Butcher_dict\n",
    "\n",
    "RK_method = \"RK4\"\n",
    "RK_order = Butcher_dict[RK_method][1]\n",
    "cmd.mkdir(os.path.join(Ccodesdir, \"MoLtimestepping/\"))\n",
    "MoL.MoL_C_Code_Generation(RK_method,\n",
    "    RHS_string=\"\"\"\n",
    "Ricci_eval(&rfmstruct, &params, RK_INPUT_GFS, auxevol_gfs);\n",
    "rhs_eval(&rfmstruct, &params, auxevol_gfs, RK_INPUT_GFS, RK_OUTPUT_GFS);\"\"\",\n",
    "    post_RHS_string = \"\"\"\n",
    "apply_bcs_curvilinear(&params, &bcstruct, NUM_EVOL_GFS, evol_gf_parity, RK_OUTPUT_GFS);\n",
    "enforce_detgammabar_constraint(&rfmstruct, &params,                     RK_OUTPUT_GFS);\\n\"\"\",\n",
    "    outdir = os.path.join(Ccodesdir,\"MoLtimestepping/\"))"
   ]
  },
  {
   "cell_type": "code",
   "execution_count": 5,
   "metadata": {},
   "outputs": [],
   "source": [
    "# Output the find_timestep() function to a C file\n",
    "rfm.out_timestep_func_to_file(os.path.join(Ccodesdir, \"find_timestep.h\"))"
   ]
  },
  {
   "cell_type": "code",
   "execution_count": 6,
   "metadata": {},
   "outputs": [],
   "source": [
    "# In the parallel C codegen below, the\n",
    "def pickled_outC_function_dict(outC_function_dict):\n",
    "    outstr = []\n",
    "    outstr.append(pickle.dumps(len(outC_function_dict)))\n",
    "    for Cfuncname, Cfunc in outC_function_dict.items():\n",
    "        outstr.append(pickle.dumps(Cfuncname))\n",
    "        outstr.append(pickle.dumps(Cfunc))\n",
    "    return outstr"
   ]
  },
  {
   "cell_type": "markdown",
   "metadata": {},
   "source": [
    "# Import initial data for the UIUC Black Hole"
   ]
  },
  {
   "cell_type": "code",
   "execution_count": 7,
   "metadata": {},
   "outputs": [],
   "source": [
    "import BSSN.UIUCBlackHole as uiuc\n",
    "\n",
    "def UIUCBlackHoleID():\n",
    "    print(\"Generating optimised C code for UIUC Black Hole initial data. May take a while, depending on CoordSystem.\")\n",
    "    start = time.time()\n",
    "\n",
    "    uiuc.UIUCBlackHole()    # Registers ID C function in dictionary, used below to output to file\n",
    "    with open(os.path.join(Ccodesdir, \"initial_data.h\"), \"w\") as file:\n",
    "        file.write(outC_function_dict[\"initial_data\"])\n",
    "    end = time.time()\n",
    "    print(f\"(BENCH) Finished UIUC BH initial data codegen in {end - start} seconds.\")\n",
    "    return pickled_outC_function_dict(outC_function_dict)"
   ]
  },
  {
   "cell_type": "markdown",
   "metadata": {},
   "source": [
    "# Output C Code for BSSN evolution of the spacetime"
   ]
  },
  {
   "cell_type": "code",
   "execution_count": 8,
   "metadata": {
    "tags": []
   },
   "outputs": [
    {
     "output_type": "stream",
     "name": "stdout",
     "text": "Generating symbolic expressions for BSSN RHSs...\n(BENCH) Finished BSSN symbolic expression generation in 5.343959808349609 seconds.\n"
    }
   ],
   "source": [
    "import BSSN.BSSN_RHSs as rhs\n",
    "import BSSN.BSSN_gauge_RHSs as grhs\n",
    "\n",
    "# Set the *covariant*, second-order Gamma-driving shift condition\n",
    "par.set_parval_from_str(\"BSSN.BSSN_gauge_RHSs::ShiftEvolutionOption\", \"GammaDriving2ndOrder_Covariant\")\n",
    "\n",
    "print(\"Generating symbolic expressions for BSSN RHSs...\")\n",
    "start = time.time()\n",
    "\n",
    "# Enable rfm_precompute to eliminate transcendental functions from BSSN RHSs\n",
    "cmd.mkdir(os.path.join(Ccodesdir, \"rfm_files/\"))\n",
    "par.set_parval_from_str(\"reference_metric::enable_rfm_precompute\", \"True\")\n",
    "par.set_parval_from_str(\"reference_metric::rfm_precompute_Ccode_outdir\", os.path.join(Ccodesdir, \"rfm_files/\"))\n",
    "\n",
    "# Evaluate BSSN + BSSN gauge RHSs with rfm_precompute enabled\n",
    "import BSSN.BSSN_quantities as Bq\n",
    "# Setting LeaveRicciSymbolic to True leads to a significantly shorter RHS symbolic generation,\n",
    "# at the small cost of a two-step MoL algorithm to compute RHSs in the C code\n",
    "par.set_parval_from_str(\"BSSN.BSSN_quantities::LeaveRicciSymbolic\", \"True\")\n",
    "\n",
    "rhs.BSSN_RHSs()\n",
    "grhs.BSSN_gauge_RHSs()\n",
    "\n",
    "# Use betaU as the upwinding control vector\n",
    "Bq.BSSN_basic_tensors()\n",
    "betaU = Bq.betaU\n",
    "\n",
    "# Generate symbolic expressions to enforce the constraint on the determinant of gammabar\n",
    "import BSSN.Enforce_Detgammabar_Constraint as EGC\n",
    "enforce_detg_constraint_symb_expressions = EGC.Enforce_Detgammabar_Constraint_symb_expressions()\n",
    "\n",
    "# Compute the Ricci tensor\n",
    "par.set_parval_from_str(\"BSSN.BSSN_quantities::LeaveRicciSymbolic\", \"False\")\n",
    "Bq.RicciBar__gammabarDD_dHatD__DGammaUDD__DGammaU()\n",
    "\n",
    "# Register the Hamiltonian constraint as a grid function\n",
    "H = gri.register_gridfunctions(\"AUX\", \"H\")\n",
    "# Define the Hamiltonian constraint and ouptut the optimised C code\n",
    "import BSSN.BSSN_constraints as bssncon\n",
    "bssncon.BSSN_constraints(add_T4UUmunu_source_terms=False)\n",
    "\n",
    "# Restore all rfm hatted quantities to their close-form expressions by setting rfm_precompute to False\n",
    "par.set_parval_from_str(\"reference_metric::enable_rfm_precompute\", \"False\")\n",
    "rfm.ref_metric__hatted_quantities()\n",
    "\n",
    "# Print elapsed time\n",
    "end = time.time()\n",
    "print(f\"(BENCH) Finished BSSN symbolic expression generation in {end - start} seconds.\")\n",
    "\n",
    "includes = None\n",
    "if FD_functions_enable:\n",
    "    includes = [\"finite_difference_functions.h\"]"
   ]
  },
  {
   "cell_type": "code",
   "execution_count": 9,
   "metadata": {},
   "outputs": [],
   "source": [
    "# Function to output C code for computing the BSSN right-hand sides\n",
    "def BSSN_RHSs():\n",
    "    print(f\"Generating C code for BSSN RHSs in {par.parval_from_str('reference_metric::CoordSystem')} coordinates.\")\n",
    "    start = time.time()\n",
    "\n",
    "    # Construct the left-hand sides and right-hand side expressions for all BSSN RHSs\n",
    "    lhs_names = [    \"alpha\",       \"cf\",       \"trK\"]\n",
    "    rhs_exprs = [grhs.alpha_rhs, rhs.cf_rhs, rhs.trK_rhs]\n",
    "    for i in range(3):\n",
    "        lhs_names.append(   f\"betU{i}\")\n",
    "        rhs_exprs.append(grhs.bet_rhsU[i])\n",
    "        lhs_names.append(  f\"lambdaU{i}\")\n",
    "        rhs_exprs.append(rhs.lambda_rhsU[i])\n",
    "        lhs_names.append(   f\"vetU{i}\")\n",
    "        rhs_exprs.append(grhs.vet_rhsU[i])\n",
    "        for j in range(i, 3):\n",
    "            lhs_names.append(f\"aDD{i}{j}\")\n",
    "            rhs_exprs.append(rhs.a_rhsDD[i][j])\n",
    "            lhs_names.append(f\"hDD{i}{j}\")\n",
    "            rhs_exprs.append(rhs.h_rhsDD[i][j])\n",
    "\n",
    "    # Sort the lhss list alphabetically, and the rhss to match\n",
    "    lhs_names, rhs_exprs = [list(x) for x in zip(*sorted(zip(lhs_names, rhs_exprs), key=lambda pair: pair[0]))]\n",
    "\n",
    "    # Declare the list of lhrh's\n",
    "    BSSN_evol_rhss = []\n",
    "    for var in range(len(lhs_names)):\n",
    "        BSSN_evol_rhss.append(lhrh(lhs=gri.gfaccess(\"rhs_gfs\", lhs_names[var]), rhs=rhs_exprs[var]))\n",
    "\n",
    "    # Set up the C function for the BSSN RHSs\n",
    "    # Set up the outputC and loop parameters for BSSN_RHSs C function\n",
    "    outC_params = \"outCverbose=False\"\n",
    "    loopoptions = \"InteriorPoints,Enable_rfm_precompute\"\n",
    "    if SIMD_enable == True:\n",
    "        loopoptions += \",EnableSIMD\"\n",
    "        outC_params += \",SIMD_enable=True\"\n",
    "    desc = \"Evaluate the BSSN RHSs\"\n",
    "    name = \"rhs_eval\"\n",
    "    outCfunction(\n",
    "        outfile = os.path.join(Ccodesdir, name + \".h\"), includes=includes, desc=desc, name=name,\n",
    "        params = \"\"\"rfm_struct *restrict rfmstruct, const paramstruct *restrict params,\n",
    "                    const REAL *restrict auxevol_gfs, const REAL *restrict in_gfs, REAL *restrict rhs_gfs\"\"\",\n",
    "        body = fin.FD_outputC(\"returnstring\", BSSN_evol_rhss, params=outC_params, upwindcontrolvec=betaU).replace(\"IDX4\", \"IDX4S\"),\n",
    "        loopopts=loopoptions\n",
    "    )\n",
    "    \n",
    "    # Print elapsed time\n",
    "    end = time.time()\n",
    "    print(f\"(BENCH) Finished BSSN_RHS C codegen in {end - start} seconds.\")\n",
    "    return pickled_outC_function_dict(outC_function_dict)"
   ]
  },
  {
   "cell_type": "code",
   "execution_count": 10,
   "metadata": {},
   "outputs": [],
   "source": [
    "# Function to output C code for computing the Ricci tensor\n",
    "def Ricci():\n",
    "    print(f\"Generating C code for Ricci tensor in {par.parval_from_str('reference_metric::CoordSystem')} coordinates.\")\n",
    "    start = time.time()\n",
    "\n",
    "    # Set up the C function for the Ricci tensor\n",
    "    # Set outputC and loop parameters for Ricci tensor function\n",
    "    outC_params = \"outCverbose=False\"\n",
    "    loopoptions = \"InteriorPoints,Enable_rfm_precompute\"\n",
    "    if SIMD_enable == True:\n",
    "        loopoptions += \",Enable_SIMD\"\n",
    "        outC_params += \",SIMD_enable=True\"\n",
    "    desc = \"Evaluate the Ricci tensor\"\n",
    "    name = \"Ricci_eval\"\n",
    "    outCfunction(\n",
    "        outfile = os.path.join(Ccodesdir, name+\".h\"), includes=includes, desc=desc, name=name,\n",
    "        params = \"\"\"rfm_struct *restrict rfmstruct, const paramstruct *restrict params,\n",
    "                    const REAL *restrict in_gfs, REAL *restrict auxevol_gfs\"\"\",\n",
    "        body = fin.FD_outputC(\"returnstring\",\n",
    "                              [lhrh(lhs=gri.gfaccess(\"auxevol_gfs\",\"RbarDD00\"),rhs=Bq.RbarDD[0][0]),\n",
    "                               lhrh(lhs=gri.gfaccess(\"auxevol_gfs\",\"RbarDD01\"),rhs=Bq.RbarDD[0][1]),\n",
    "                               lhrh(lhs=gri.gfaccess(\"auxevol_gfs\",\"RbarDD02\"),rhs=Bq.RbarDD[0][2]),\n",
    "                               lhrh(lhs=gri.gfaccess(\"auxevol_gfs\",\"RbarDD11\"),rhs=Bq.RbarDD[1][1]),\n",
    "                               lhrh(lhs=gri.gfaccess(\"auxevol_gfs\",\"RbarDD12\"),rhs=Bq.RbarDD[1][2]),\n",
    "                               lhrh(lhs=gri.gfaccess(\"auxevol_gfs\",\"RbarDD22\"),rhs=Bq.RbarDD[2][2])],\n",
    "                               params=outC_params.replace(\"IDX4\", \"IDX4S\")),\n",
    "        loopopts=loopoptions\n",
    "    )\n",
    "\n",
    "    # Print elapsed time\n",
    "    end = time.time()\n",
    "    print(f\"(BENCH) Finished Ricci C codegen in {end - start} seconds.\")\n",
    "    return pickled_outC_function_dict(outC_function_dict)"
   ]
  },
  {
   "cell_type": "code",
   "execution_count": 11,
   "metadata": {},
   "outputs": [],
   "source": [
    "# Function to output C code for computing the Hamiltonian constraint\n",
    "def Hamiltonian():\n",
    "    print(\"Generating optimised C code for the Hamiltonian constraint. May take a while, depending on CoordSystem.\")\n",
    "    start = time.time()\n",
    "\n",
    "    # Set up the C function for the Hamiltonian RHS\n",
    "    desc = \"Evaluate the Hamiltonian constraint\"\n",
    "    name = \"Hamiltonian_constraint\"\n",
    "    outCfunction(\n",
    "        outfile = os.path.join(Ccodesdir, name + \".h\"), includes=includes, desc=desc, name=name,\n",
    "        params = \"\"\"rfm_struct *restrict rfmstruct, const paramstruct *restrict params,\n",
    "                    REAL *restrict in_gfs, REAL *restrict aux_gfs\"\"\",\n",
    "        body = fin.FD_outputC(\"returnstring\", lhrh(lhs=gri.gfaccess(\"aux_gfs\", \"H\"), rhs=bssncon.H),\n",
    "                               params=\"outCverbose=False\").replace(\"IDX4\", \"IDX4S\"),\n",
    "        loopopts=\"InteriorPoints,Enable_rfm_precompute\"\n",
    "    )\n",
    "\n",
    "    # Print elapsed time\n",
    "    end = time.time()\n",
    "    print(f\"(BENCH) Finished Hamiltonian C codegen in {end - start} seconds.\")\n",
    "    return pickled_outC_function_dict(outC_function_dict)"
   ]
  },
  {
   "cell_type": "code",
   "execution_count": 12,
   "metadata": {},
   "outputs": [],
   "source": [
    "# Function to output C code for enforcing the constraint on the determinant of gammabar\n",
    "def gammadet():\n",
    "    print(\"Generating optimised C code for gamma gonstraint. May take a while, depending on CoordSystem.\")\n",
    "    start = time.time()\n",
    "\n",
    "    # Set up the C function for the det(gammahat) = det(gammabar)\n",
    "    EGC.output_Enforce_Detgammabar_Constraint_Ccode(Ccodesdir, exprs=enforce_detg_constraint_symb_expressions)\n",
    "    \n",
    "    # Print elapsed time\n",
    "    end = time.time()\n",
    "    print(f\"(BENCH) Finished gamma constraint C codegen in {end - start} seconds.\")\n",
    "    return pickled_outC_function_dict(outC_function_dict)"
   ]
  },
  {
   "cell_type": "code",
   "execution_count": 13,
   "metadata": {
    "tags": []
   },
   "outputs": [
    {
     "output_type": "stream",
     "name": "stdout",
     "text": "Generating C code for BSSN RHSs in Spherical coordinates.\nGenerating optimised C code for UIUC Black Hole initial data. May take a while, depending on CoordSystem.\nGenerating optimised C code for the Hamiltonian constraint. May take a while, depending on CoordSystem.\nGenerating optimised C code for gamma gonstraint. May take a while, depending on CoordSystem.\nGenerating C code for Ricci tensor in Spherical coordinates.\nOutput C function enforce_detgammabar_constraint() to file BSSN_LinearScalarFieldEvolution_Ccodes/enforce_detgammabar_constraint.h\n(BENCH) Finished gamma constraint C codegen in 0.13461661338806152 seconds.\n(BENCH) Finished UIUC BH initial data codegen in 1.0696113109588623 seconds.\nOutput C function rhs_eval() to file BSSN_LinearScalarFieldEvolution_Ccodes/rhs_eval.h\n(BENCH) Finished BSSN_RHS C codegen in 13.475466966629028 seconds.\nOutput C function Ricci_eval() to file BSSN_LinearScalarFieldEvolution_Ccodes/Ricci_eval.h\n(BENCH) Finished Ricci C codegen in 25.09569478034973 seconds.\nOutput C function Hamiltonian_constraint() to file BSSN_LinearScalarFieldEvolution_Ccodes/Hamiltonian_constraint.h\n(BENCH) Finished Hamiltonian C codegen in 56.03213405609131 seconds.\n"
    }
   ],
   "source": [
    "# Generate C code kernels for BSSN expressions, in parallel if possible\n",
    "\n",
    "# Create a list of functions we wish to evaluate in parallel (if possible)\n",
    "funcs = [UIUCBlackHoleID, BSSN_RHSs, Ricci, Hamiltonian, gammadet]\n",
    "# pickled_outC_func_dict stores outC_function_dict from all the subprocesses in the parallel codegen\n",
    "pickled_outC_func_dict = []\n",
    "\n",
    "try:\n",
    "    if os.name == 'nt':\n",
    "        # It's a mess to get working in Windows, so we don't bother. :/\n",
    "        #  https://medium.com/@grvsinghal/speed-up-your-python-code-using-multiprocessing-on-windows-and-jupyter-or-ipython-2714b49d6fac\n",
    "        raise Exception(\"Parallel codegen currently not available in certain environments, e.g., Windows\")\n",
    "\n",
    "    # Import the multiprocessing module.\n",
    "    import multiprocessing as mp\n",
    "\n",
    "    # Define master functions for parallelisation.\n",
    "    def master_func(arg):\n",
    "        return funcs[arg]()\n",
    "    # Evaluate list of functions in parallel if possible\n",
    "    # otherwise fallback to serial evaluation\n",
    "    pool = mp.Pool()\n",
    "    pickled_outC_func_dict.append(pool.map(master_func,range(len(funcs))))\n",
    "    pool.terminate()\n",
    "    pool.join()\n",
    "except:\n",
    "    # Fallback to serial evaluation if parallel not possible\n",
    "    for func in funcs:\n",
    "        func()\n",
    "    pickled_outC_func_dict = []\n",
    "\n",
    "# Output functions for computing all finite-difference stencils\n",
    "if FD_functions_enable and len(pickled_outC_func_dict)>0:\n",
    "    # First unpickle pickled_outC_func_dict\n",
    "    outCfunc_dict = {}\n",
    "    for WhichFunc in pickled_outC_func_dict[0]:\n",
    "        i = 0\n",
    "        num_elements = pickle.loads(WhichFunc[i]); i += 1\n",
    "        for lst in range(num_elements):\n",
    "            funcname = pickle.loads(WhichFunc[i])\n",
    "            funcbody = pickle.loads(WhichFunc[i + 1]); i += 2\n",
    "            outCfunc_dict[funcname] = funcbody\n",
    "    # Then store the unpickled outCfunc_dict to outputC's outC_function_dict\n",
    "    for key, item in outCfunc_dict.items():\n",
    "        outC_function_dict[key] = item\n",
    "        \n",
    "if FD_functions_enable:\n",
    "    # Finally generate finite_difference_functions.h\n",
    "    fin.output_finite_difference_functions_h(path=Ccodesdir)"
   ]
  },
  {
   "cell_type": "code",
   "execution_count": 14,
   "metadata": {},
   "outputs": [],
   "source": [
    "# Output C codes needed for declaring and setting Cparameters; also set free_parameters.h\n",
    "\n",
    "# Generate declare_Cparameters_struct.h, set_Cparameters_default.h and set_Cparameters[-SIMD].h\n",
    "par.generate_Cparameters_Ccodes(os.path.join(Ccodesdir))\n",
    "\n",
    "# Set free_parameters.h\n",
    "with open(os.path.join(Ccodesdir, \"free_parameters.h\"), \"w\") as file:\n",
    "    file.write(\"\"\"\n",
    "// Set Black Hole mass and spin\n",
    "params.M = {M};\n",
    "params.chi = {chi};\n",
    "    \"\"\")\n",
    "\n",
    "# Append to $Ccodesdir/free_parameters.h reference metric parameters based on generic\n",
    "# domain_size,sinh_width,sinhv2_const_dr,SymTP_bScale, parameters set above.\n",
    "rfm.out_default_free_parameters_for_rfm(os.path.join(Ccodesdir,\"free_parameters.h\"), domain_size, sinh_width)\n",
    "\n",
    "# Generate set_Nxx_dxx_invdx_params__and__xx.h\n",
    "rfm.set_Nxx_dxx_invdx_params__and__xx_h(Ccodesdir)\n",
    "\n",
    "# Generate xxCart.h to map from xx to cartesian coordinates\n",
    "rfm.xxCart_h(\"xxCart\", \"./set_Cparameters.h\", os.path.join(Ccodesdir, \"xxCart.h\"))\n",
    "\n",
    "# Generate declare_Cparameters_struct.h, set_Cparameters_default.h and set_Cparameters[-SIMD].h\n",
    "par.generate_Cparameters_Ccodes(os.path.join(Ccodesdir))"
   ]
  },
  {
   "cell_type": "markdown",
   "metadata": {},
   "source": [
    "# Set up boundary conditions"
   ]
  },
  {
   "cell_type": "code",
   "execution_count": 15,
   "metadata": {
    "tags": []
   },
   "outputs": [
    {
     "output_type": "stream",
     "name": "stdout",
     "text": "Wrote to file \"BSSN_LinearScalarFieldEvolution_Ccodes/boundary_conditions/parity_conditions_symbolic_dot_products.h\"\nEvolved parity: ( aDD00:4, aDD01:5, aDD02:6, aDD11:7, aDD12:8, aDD22:9,\n    alpha:0, betU0:1, betU1:2, betU2:3, cf:0, hDD00:4, hDD01:5, hDD02:6,\n    hDD11:7, hDD12:8, hDD22:9, lambdaU0:1, lambdaU1:2, lambdaU2:3, trK:0,\n    vetU0:1, vetU1:2, vetU2:3 )\nAuxiliary parity: ( H:0 )\nAuxEvol parity: ( RbarDD00:4, RbarDD01:5, RbarDD02:6, RbarDD11:7,\n    RbarDD12:8, RbarDD22:9 )\nWrote to file \"BSSN_LinearScalarFieldEvolution_Ccodes/boundary_conditions/EigenCoord_Cart_to_xx.h\"\n"
    }
   ],
   "source": [
    "import CurviBoundaryConditions.CurviBoundaryConditions as cbcs\n",
    "cbcs.Set_up_CurviBoundaryConditions(os.path.join(Ccodesdir,\"boundary_conditions/\"),Cparamspath=os.path.join(\"../\"))"
   ]
  }
 ]
}