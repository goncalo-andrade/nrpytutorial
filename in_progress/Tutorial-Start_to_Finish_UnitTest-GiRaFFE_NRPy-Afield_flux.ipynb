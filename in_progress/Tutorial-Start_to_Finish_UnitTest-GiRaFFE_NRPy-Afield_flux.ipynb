{
 "cells": [
  {
   "cell_type": "markdown",
   "metadata": {},
   "source": [
    "<script async src=\"https://www.googletagmanager.com/gtag/js?id=UA-59152712-8\"></script>\n",
    "<script>\n",
    "  window.dataLayer = window.dataLayer || [];\n",
    "  function gtag(){dataLayer.push(arguments);}\n",
    "  gtag('js', new Date());\n",
    "\n",
    "  gtag('config', 'UA-59152712-8');\n",
    "</script>\n",
    "\n",
    "# Start-to-Finish Example: Unit Testing `GiRaFFE_NRPy`: Induction Equation\n",
    "\n",
    "## Author: Patrick Nelson\n",
    "\n",
    "## This module validates the routine to compute the flux of $\\epsilon_{ijk} v^j B^k$ for `GiRaFFE`.\n",
    "\n",
    "**Notebook Status:** <font color='red'><b>In-Progress</b></font>\n",
    "\n",
    "**Validation Notes:** This module will validate the routines in [Tutorial-GiRaFFE_NRPy-Induction_Equation](Tutorial-GiRaFFE_NRPy-Induction_Equation.ipynb).\n",
    "\n",
    "### NRPy+ Source Code for this module: \n",
    "* [GiRaFFE_NRPy/Afield_flux.py](../../edit/in_progress/GiRaFFE_NRPy/Afield_flux.py) [\\[**tutorial**\\]](Tutorial-GiRaFFE_NRPy-Afield_flux.ipynb) Generates the symbolic expressions needed to compute the flux term of the induction equation right-hand side.\n",
    "\n",
    "## Introduction:\n",
    "\n",
    "This notebook validates our algorithm to compute the flux of $\\epsilon_{ijk} v^j B^k$ through cell faces, which contributes to the right-hand side of the evolution equation for $A_i$, for use in `GiRaFFE_NRPy`. Because the original `GiRaFFE` used staggered grids and we do not, we can not trivially do a direct comparison to the old code. Instead, we will compare the numerical results with the expected analytic results. \n",
    "\n",
    "It is, in general, good coding practice to unit test functions individually to verify that they produce the expected and intended output. Here, we expect our functions to produce the correct cross product between the velocity and magnetic field in an arbitrary spacetime. To that end, we will choose functions with relatively simple analytic forms.\n",
    "\n",
    "In this test, we will generate analytic forms for the magnetic field and three-velocity. We will need to do this in a $7 \\times 7 \\times 7$ cube in order to run the PPM routine on the data to generate the inputs compute the non-gauge terms of the RHS of the induction equation, unless there's a way to usefully spoof the left- and right-face values for the HLLE solver. We care about this here, because we are comparing against an analytic expression and not the old code.\n",
    "\n",
    "When this notebook is run, the difference between the approximate and exact right-hand sides will be output to text files that can be found in the same directory as this notebook. These will be read in in [Step 3](#convergence), and used there to confirm second order convergence of the algorithm. "
   ]
  },
  {
   "cell_type": "markdown",
   "metadata": {},
   "source": [
    "<a id='toc'></a>\n",
    "\n",
    "# Table of Contents\n",
    "$$\\label{toc}$$\n",
    "\n",
    "This notebook is organized as follows\n",
    "\n",
    "1. [Step 1](#setup): Set up core functions and parameters for unit testing the A2B algorithm\n",
    "    1. [Step 1.a](#magnetic) Set analytic magnetic field\n",
    "    1. [Step 1.b](#velocity) Set analytic Valencia three-velocity\n",
    "    1. [Step 1.c](#free_parameters) Set free parameters in the code\n",
    "1. [Step 2](#mainc): `Induction_Equation_unit_test.c`: The Main C Code\n",
    "    1. [Step 2.a](#compile_run): Compile and run the code\n",
    "1. [Step 3](#convergence): Code validation: Verify that relative error in numerical solution converges to zero at the expected order\n",
    "1. [Step 4](#latex_pdf_output): Output this notebook to $\\LaTeX$-formatted PDF file"
   ]
  },
  {
   "cell_type": "markdown",
   "metadata": {},
   "source": [
    "<a id='setup'></a>\n",
    "\n",
    "# Step 1: Set up core functions and parameters for unit testing the A2B algorithm \\[Back to [top](#toc)\\]\n",
    "\n",
    "$$\\label{setup}$$\n",
    "\n",
    "We'll start by appending the relevant paths to `sys.path` so that we can access sympy modules in other places. Then, we'll import NRPy+ core functionality and set up a directory in which to carry out our test. We must also set the desired finite differencing order."
   ]
  },
  {
   "cell_type": "code",
   "execution_count": 1,
   "metadata": {},
   "outputs": [],
   "source": [
    "import shutil, os, sys           # Standard Python modules for multiplatform OS-level functions\n",
    "# First, we'll add the parent directory to the list of directories Python will check for modules.\n",
    "nrpy_dir_path = os.path.join(\"..\")\n",
    "if nrpy_dir_path not in sys.path:\n",
    "    sys.path.append(nrpy_dir_path)\n",
    "nrpy_dir_path = os.path.join(\"..\",\"..\")\n",
    "if nrpy_dir_path not in sys.path:\n",
    "    sys.path.append(nrpy_dir_path)\n",
    "\n",
    "from outputC import *            # NRPy+: Core C code output module\n",
    "import finite_difference as fin  # NRPy+: Finite difference C code generation module\n",
    "import NRPy_param_funcs as par   # NRPy+: Parameter interface\n",
    "import grid as gri               # NRPy+: Functions having to do with numerical grids\n",
    "import loop as lp                # NRPy+: Generate C code loops\n",
    "import indexedexp as ixp         # NRPy+: Symbolic indexed expression (e.g., tensors, vectors, etc.) support\n",
    "import reference_metric as rfm   # NRPy+: Reference metric support\n",
    "import cmdline_helper as cmd     # NRPy+: Multi-platform Python command-line interface\n",
    "\n",
    "out_dir = \"Validation/\"\n",
    "cmd.mkdir(out_dir)\n",
    "subdir = \"Afield_flux\"\n",
    "cmd.mkdir(os.path.join(out_dir,subdir))\n",
    "\n",
    "thismodule = \"Start_to_Finish_UnitTest-GiRaFFE_NRPy-Afield_flux\"\n",
    "Use_Shock_Data = True\n"
   ]
  },
  {
   "cell_type": "markdown",
   "metadata": {},
   "source": [
    "<a id='velocity'></a>\n",
    "\n",
    "## Step 1.a: Valencia three-velocity \\[Back to [top](#toc)\\]\n",
    "$$\\label{velocity}$$\n",
    "\n",
    "Here, we'll generate some functions for the velocity. Let's choose arctangents, since those have asymptotes that can be easily manipulated to prevent accidentally setting superluminal speeds. \n",
    "\\begin{align}\n",
    "\\bar{v}^x &= \\frac{1}{5\\pi} \\arctan(ax + by + cz) \\\\\n",
    "\\bar{v}^y &= \\frac{1}{5\\pi} \\arctan(bx + cy + az) \\\\\n",
    "\\bar{v}^z &= \\frac{1}{5\\pi} \\arctan(cx + ay + bz) \\\\\n",
    "\\end{align}\n",
    "If we want to add a jump at the origin, we can simply add $\\max(0,x)$ to the argument of the arctangent. This will add a shock in the $x$-direction. The maximum will be described without the use of if statements using the `Min_Max_and_Piecewise_Expressions` module."
   ]
  },
  {
   "cell_type": "code",
   "execution_count": 2,
   "metadata": {},
   "outputs": [],
   "source": [
    "import Min_Max_and_Piecewise_Expressions as noif\n",
    "\n",
    "a,b,c = par.Cparameters(\"REAL\",thismodule,[\"a\",\"b\",\"c\"],1e300) # Note that this default value allows us to set\n",
    "                                                               # these directly in the C code\n",
    "M_PI  = par.Cparameters(\"#define\",thismodule,[\"M_PI\"], \"\")\n",
    "\n",
    "par.set_parval_from_str(\"reference_metric::CoordSystem\",\"Cartesian\")\n",
    "rfm.reference_metric()\n",
    "x = rfm.xxCart[0]\n",
    "y = rfm.xxCart[1]\n",
    "z = rfm.xxCart[2]\n",
    "\n",
    "offset = sp.sympify(5)\n",
    "args = ixp.zerorank1()\n",
    "args[0] = a*(x-offset) + b*y + c*z\n",
    "args[1] = b*x + c*(y-offset) + a*z\n",
    "args[2] = c*x + a*y + b*(z-offset)\n",
    "if Use_Shock_Data:\n",
    "    for i in range(3): \n",
    "        args[i] += noif.max_noif(0,5*x)\n",
    "\n",
    "ValenciavU = ixp.register_gridfunctions_for_single_rank1(\"AUXEVOL\",\"ValenciavU\")\n",
    "for i in range(3): \n",
    "    ValenciavU[i] = (sp.Rational(1,5)/M_PI)*sp.atan(args[i])"
   ]
  },
  {
   "cell_type": "markdown",
   "metadata": {},
   "source": [
    "<a id='magnetic'></a>\n",
    "\n",
    "## Step 1.b: Magnetic field \\[Back to [top](#toc)\\]\n",
    "$$\\label{magnetic}$$\n",
    "\n",
    "We'll also need some functions for the magnetic field. Exponentials sound fun.\n",
    "\\begin{align}\n",
    "B^x &= \\exp(ey+fz) \\\\\n",
    "B^y &= \\exp(fz+dx) \\\\\n",
    "B^z &= \\exp(dx+ey) \\\\\n",
    "\\end{align}\n",
    "In this case, we'll add $\\max{0,x}$ to the field to add the jump."
   ]
  },
  {
   "cell_type": "code",
   "execution_count": 3,
   "metadata": {},
   "outputs": [],
   "source": [
    "d,e,f = par.Cparameters(\"REAL\",thismodule,[\"d\",\"e\",\"f\"],1e300) # Note that this default value allows us to set\n",
    "                                                               # these directly in the C code\n",
    "BU = ixp.register_gridfunctions_for_single_rank1(\"AUXEVOL\",\"BU\")\n",
    "BU[0] = sp.exp(sp.Rational(1,10)*(e*y+f*z))\n",
    "BU[1] = sp.exp(sp.Rational(1,10)*(f*z+d*x))\n",
    "BU[2] = sp.exp(sp.Rational(1,10)*(d*x+e*y))\n",
    "if Use_Shock_Data:\n",
    "    for i in range(3): \n",
    "        BU[i] += noif.max_noif(0,5*x)\n"
   ]
  },
  {
   "cell_type": "markdown",
   "metadata": {},
   "source": [
    "<a id='functions'></a>\n",
    "\n",
    "## Step 1.c: Generate C functions to write the test data \\[Back to [top](#toc)\\]\n",
    "$$\\label{functions}$$\n"
   ]
  },
  {
   "cell_type": "code",
   "execution_count": 4,
   "metadata": {},
   "outputs": [
    {
     "name": "stdout",
     "output_type": "stream",
     "text": [
      "Output C function calculate_BU() to file Validation/calculate_BU.h\n",
      "Output C function calculate_ValenciavU() to file Validation/calculate_ValenciavU.h\n"
     ]
    }
   ],
   "source": [
    "BU_to_print = [\\\n",
    "                lhrh(lhs=gri.gfaccess(\"out_gfs\",\"BU0\"),rhs=BU[0]),\\\n",
    "                lhrh(lhs=gri.gfaccess(\"out_gfs\",\"BU1\"),rhs=BU[1]),\\\n",
    "                lhrh(lhs=gri.gfaccess(\"out_gfs\",\"BU2\"),rhs=BU[2]),\\\n",
    "               ]\n",
    "\n",
    "desc = \"Calculate sample magnetic field data\"\n",
    "name = \"calculate_BU\"\n",
    "outCfunction(\n",
    "    outfile  = os.path.join(out_dir,name+\".h\"), desc=desc, name=name,\n",
    "    params   =\"const paramstruct *params,REAL *xx[3],REAL *auxevol_gfs\",\n",
    "    body     = fin.FD_outputC(\"returnstring\",BU_to_print,params=\"outCverbose=False\").replace(\"IDX4\",\"IDX4S\"),\n",
    "    loopopts=\"AllPoints,Read_xxs\")\n",
    "\n",
    "ValenciavU_to_print = [\\\n",
    "                       lhrh(lhs=gri.gfaccess(\"out_gfs\",\"ValenciavU0\"),rhs=ValenciavU[0]),\\\n",
    "                       lhrh(lhs=gri.gfaccess(\"out_gfs\",\"ValenciavU1\"),rhs=ValenciavU[1]),\\\n",
    "                       lhrh(lhs=gri.gfaccess(\"out_gfs\",\"ValenciavU2\"),rhs=ValenciavU[2]),\\\n",
    "                      ]\n",
    "\n",
    "desc = \"Calculate sample velocity data\"\n",
    "name = \"calculate_ValenciavU\"\n",
    "outCfunction(\n",
    "    outfile  = os.path.join(out_dir,name+\".h\"), desc=desc, name=name,\n",
    "    params   =\"const paramstruct *params,REAL *xx[3],REAL *auxevol_gfs\",\n",
    "    body     = fin.FD_outputC(\"returnstring\",ValenciavU_to_print,params=\"outCverbose=False\").replace(\"IDX4\",\"IDX4S\"),\n",
    "    loopopts=\"AllPoints,Read_xxs\")\n"
   ]
  },
  {
   "cell_type": "markdown",
   "metadata": {},
   "source": [
    "<a id='free_parameters'></a>\n",
    "\n",
    "## Step 1.d: Set free parameters in the code \\[Back to [top](#toc)\\]\n",
    "$$\\label{free_parameters}$$\n",
    "\n",
    "We also need to create the files that interact with NRPy's C parameter interface. "
   ]
  },
  {
   "cell_type": "code",
   "execution_count": 5,
   "metadata": {},
   "outputs": [],
   "source": [
    "# Step 3.d.i: Generate declare_Cparameters_struct.h, set_Cparameters_default.h, and set_Cparameters[-SIMD].h\n",
    "NGHOSTS  = par.Cparameters(\"int\",thismodule,[\"NGHOSTS\"], 3)\n",
    "# Step 3.d.ii: Set free_parameters.h\n",
    "with open(os.path.join(out_dir,\"free_parameters.h\"),\"w\") as file:\n",
    "    file.write(\"\"\"\n",
    "// Override parameter defaults with values based on command line arguments and NGHOSTS.\n",
    "// We'll use this grid. It has one point and one ghost zone.\n",
    "params.NGHOSTS = 3;\n",
    "params.Nxx0 = atoi(argv[1]);\n",
    "params.Nxx1 = atoi(argv[2]);\n",
    "params.Nxx2 = atoi(argv[3]);\n",
    "params.Nxx_plus_2NGHOSTS0 = params.Nxx0 + 2*params.NGHOSTS;\n",
    "params.Nxx_plus_2NGHOSTS1 = params.Nxx1 + 2*params.NGHOSTS;\n",
    "params.Nxx_plus_2NGHOSTS2 = params.Nxx2 + 2*params.NGHOSTS;\n",
    "// Step 0d: Set up space and time coordinates\n",
    "// Step 0d.i: Declare \\Delta x^i=dxx{0,1,2} and invdxx{0,1,2}, as well as xxmin[3] and xxmax[3]:\n",
    "const REAL xxmin[3] = {-0.1,-0.1,-0.1};\n",
    "const REAL xxmax[3] = { 0.1, 0.1, 0.1};\n",
    "\n",
    "params.dxx0 = (xxmax[0] - xxmin[0]) / ((REAL)params.Nxx0);\n",
    "params.dxx1 = (xxmax[1] - xxmin[1]) / ((REAL)params.Nxx1);\n",
    "params.dxx2 = (xxmax[2] - xxmin[2]) / ((REAL)params.Nxx2);\n",
    "//printf(\"dxx0,dxx1,dxx2 = %.5e,%.5e,%.5e\\\\n\",params.dxx0,params.dxx1,params.dxx2);\n",
    "params.invdx0 = 1.0 / params.dxx0;\n",
    "params.invdx1 = 1.0 / params.dxx1;\n",
    "params.invdx2 = 1.0 / params.dxx2;\n",
    "\\n\"\"\")\n",
    "\n",
    "# Generates declare_Cparameters_struct.h, set_Cparameters_default.h, and set_Cparameters[-SIMD].h\n",
    "par.generate_Cparameters_Ccodes(os.path.join(out_dir))"
   ]
  },
  {
   "cell_type": "markdown",
   "metadata": {},
   "source": [
    "<a id='module'></a>\n",
    "\n",
    "## Step 1.e: Generate `GiRaFFE_NRPy` Files \\[Back to [top](#toc)\\]\n",
    "$$\\label{module}$$\n",
    "\n",
    "Here, we generate the functions we want to test by calling the function found [here](../../edit/in_progress/GiRaFFE_NRPy/GiRaFFE_NRPy_PPM.py) and documented in [this tutorial](Tutorial-Start_to_Finish-GiRaFFE_NRPy-PPM.ipynb)."
   ]
  },
  {
   "cell_type": "code",
   "execution_count": 6,
   "metadata": {},
   "outputs": [],
   "source": [
    "import GiRaFFE_NRPy.GiRaFFE_NRPy_PPM as PPM\n",
    "PPM.GiRaFFE_NRPy_PPM(os.path.join(out_dir,subdir))"
   ]
  },
  {
   "cell_type": "markdown",
   "metadata": {},
   "source": [
    "<a id='electric_field'></a>\n",
    "\n",
    "## Step 1.f: Calculate the $E_i$ field contribution to $\\partial_t A_i$ \\[Back to [top](#toc)\\]\n",
    "$$\\label{electric_field}$$\n",
    "\n",
    "Here, we generate the functions necessary to calculate the electric flux on the cell faces, which is the algorithm we are specifically trying to test. "
   ]
  },
  {
   "cell_type": "code",
   "execution_count": 7,
   "metadata": {},
   "outputs": [
    {
     "name": "stdout",
     "output_type": "stream",
     "text": [
      "Output C function calculate_E_field_D0_right() to file Validation/Afield_flux/calculate_E_field_D0_right.h\n",
      "Output C function calculate_E_field_D0_left() to file Validation/Afield_flux/calculate_E_field_D0_left.h\n",
      "Output C function calculate_E_field_D1_right() to file Validation/Afield_flux/calculate_E_field_D1_right.h\n",
      "Output C function calculate_E_field_D1_left() to file Validation/Afield_flux/calculate_E_field_D1_left.h\n",
      "Output C function calculate_E_field_D2_right() to file Validation/Afield_flux/calculate_E_field_D2_right.h\n",
      "Output C function calculate_E_field_D2_left() to file Validation/Afield_flux/calculate_E_field_D2_left.h\n"
     ]
    }
   ],
   "source": [
    "import GiRaFFE_NRPy.Afield_flux as Af\n",
    "\n",
    "# We will pass values of the gridfunction on the cell faces into the function. This requires us\n",
    "# to declare them as C parameters in NRPy+. We will denote this with the _face infix/suffix.\n",
    "alpha_face = gri.register_gridfunctions(\"AUXEVOL\",\"alpha_face\")\n",
    "gamma_faceDD = ixp.register_gridfunctions_for_single_rank2(\"AUXEVOL\",\"gamma_faceDD\",\"sym01\")\n",
    "beta_faceU = ixp.register_gridfunctions_for_single_rank1(\"AUXEVOL\",\"beta_faceU\")\n",
    "\n",
    "# We'll need some more gridfunctions, now, to represent the reconstructions of BU and ValenciavU\n",
    "# on the right and left faces\n",
    "Valenciav_rU = ixp.register_gridfunctions_for_single_rank1(\"AUXEVOL\",\"Valenciav_rU\",DIM=3)\n",
    "B_rU = ixp.register_gridfunctions_for_single_rank1(\"AUXEVOL\",\"B_rU\",DIM=3)\n",
    "Valenciav_lU = ixp.register_gridfunctions_for_single_rank1(\"AUXEVOL\",\"Valenciav_lU\",DIM=3)\n",
    "B_lU = ixp.register_gridfunctions_for_single_rank1(\"AUXEVOL\",\"B_lU\",DIM=3)\n",
    "\n",
    "AD = ixp.register_gridfunctions_for_single_rank1(\"EVOL\",\"AD\",DIM=3)\n",
    "\n",
    "Memory_Read = \"\"\"const double alpha_face = auxevol_gfs[IDX4S(ALPHA_FACEGF, i0,i1,i2)];\n",
    "const double gamma_faceDD00 = auxevol_gfs[IDX4S(GAMMA_FACEDD00GF, i0,i1,i2)];\n",
    "const double gamma_faceDD01 = auxevol_gfs[IDX4S(GAMMA_FACEDD01GF, i0,i1,i2)];\n",
    "const double gamma_faceDD02 = auxevol_gfs[IDX4S(GAMMA_FACEDD02GF, i0,i1,i2)];\n",
    "const double gamma_faceDD11 = auxevol_gfs[IDX4S(GAMMA_FACEDD11GF, i0,i1,i2)];\n",
    "const double gamma_faceDD12 = auxevol_gfs[IDX4S(GAMMA_FACEDD12GF, i0,i1,i2)];\n",
    "const double gamma_faceDD22 = auxevol_gfs[IDX4S(GAMMA_FACEDD22GF, i0,i1,i2)];\n",
    "const double beta_faceU0 = auxevol_gfs[IDX4S(BETA_FACEU0GF, i0,i1,i2)];\n",
    "const double beta_faceU1 = auxevol_gfs[IDX4S(BETA_FACEU1GF, i0,i1,i2)];\n",
    "const double beta_faceU2 = auxevol_gfs[IDX4S(BETA_FACEU2GF, i0,i1,i2)];\n",
    "const double Valenciav_rU0 = auxevol_gfs[IDX4S(VALENCIAV_RU0GF, i0,i1,i2)];\n",
    "const double Valenciav_rU1 = auxevol_gfs[IDX4S(VALENCIAV_RU1GF, i0,i1,i2)];\n",
    "const double Valenciav_rU2 = auxevol_gfs[IDX4S(VALENCIAV_RU2GF, i0,i1,i2)];\n",
    "const double B_rU0 = auxevol_gfs[IDX4S(B_RU0GF, i0,i1,i2)];\n",
    "const double B_rU1 = auxevol_gfs[IDX4S(B_RU1GF, i0,i1,i2)];\n",
    "const double B_rU2 = auxevol_gfs[IDX4S(B_RU2GF, i0,i1,i2)];\n",
    "const double Valenciav_lU0 = auxevol_gfs[IDX4S(VALENCIAV_LU0GF, i0,i1,i2)];\n",
    "const double Valenciav_lU1 = auxevol_gfs[IDX4S(VALENCIAV_LU1GF, i0,i1,i2)];\n",
    "const double Valenciav_lU2 = auxevol_gfs[IDX4S(VALENCIAV_LU2GF, i0,i1,i2)];\n",
    "const double B_lU0 = auxevol_gfs[IDX4S(B_LU0GF, i0,i1,i2)];\n",
    "const double B_lU1 = auxevol_gfs[IDX4S(B_LU1GF, i0,i1,i2)];\n",
    "const double B_lU2 = auxevol_gfs[IDX4S(B_LU2GF, i0,i1,i2)];\n",
    "REAL A_rhsD0 = 0; REAL A_rhsD1 = 0; REAL A_rhsD2 = 0;\n",
    "\"\"\"\n",
    "Memory_Write = \"\"\"rhs_gfs[IDX4S(AD0GF,i0,i1,i2)] += A_rhsD0;\n",
    "rhs_gfs[IDX4S(AD1GF,i0,i1,i2)] += A_rhsD1;\n",
    "rhs_gfs[IDX4S(AD2GF,i0,i1,i2)] += A_rhsD2;\n",
    "\"\"\"\n",
    "\n",
    "indices = [\"i0\",\"i1\",\"i2\"]\n",
    "indicesp1 = [\"i0+1\",\"i1+1\",\"i2+1\"]\n",
    "\n",
    "for flux_dirn in range(3):\n",
    "    Af.calculate_E_i_flux(flux_dirn,True,alpha_face,gamma_faceDD,beta_faceU,\\\n",
    "                          Valenciav_rU,B_rU,Valenciav_lU,B_lU)\n",
    "\n",
    "    E_field_to_print = [\\\n",
    "                        -sp.Rational(1,4)*Af.E_fluxD[(flux_dirn+1)%3],\\\n",
    "                        -sp.Rational(1,4)*Af.E_fluxD[(flux_dirn+2)%3],\\\n",
    "                       ]\n",
    "    E_field_names = [\\\n",
    "                     \"A_rhsD\"+str((flux_dirn+1)%3),\\\n",
    "                     \"A_rhsD\"+str((flux_dirn+2)%3),\\\n",
    "                    ]\n",
    "\n",
    "    desc = \"Calculate the electric flux on the left face in direction \" + str(flux_dirn) + \".\"\n",
    "    name = \"calculate_E_field_D\" + str(flux_dirn) + \"_right\"\n",
    "    outCfunction(\n",
    "        outfile  = os.path.join(out_dir,subdir,name+\".h\"), desc=desc, name=name,\n",
    "        params   =\"const paramstruct *params,REAL *xx[3],const REAL *auxevol_gfs,REAL *rhs_gfs\",\n",
    "        body     =  Memory_Read \\\n",
    "                   +outputC(E_field_to_print,E_field_names,\"returnstring\",params=\"outCverbose=False\").replace(\"IDX4\",\"IDX4S\")\\\n",
    "                   +Memory_Write,\n",
    "        loopopts =\"InteriorPoints\",\n",
    "        rel_path_for_Cparams=os.path.join(\"../\"))\n",
    "\n",
    "    desc = \"Calculate the electric flux on the left face in direction \" + str(flux_dirn) + \".\"\n",
    "    name = \"calculate_E_field_D\" + str(flux_dirn) + \"_left\"\n",
    "    outCfunction(\n",
    "        outfile  = os.path.join(out_dir,subdir,name+\".h\"), desc=desc, name=name,\n",
    "        params   =\"const paramstruct *params,REAL *xx[3],const REAL *auxevol_gfs,REAL *rhs_gfs\",\n",
    "        body     =  Memory_Read.replace(indices[flux_dirn],indicesp1[flux_dirn]) \\\n",
    "                   +outputC(E_field_to_print,E_field_names,\"returnstring\",params=\"outCverbose=False\").replace(\"IDX4\",\"IDX4S\")\\\n",
    "                   +Memory_Write,\n",
    "        loopopts =\"InteriorPoints\",\n",
    "        rel_path_for_Cparams=os.path.join(\"../\"))\n",
    "\n"
   ]
  },
  {
   "cell_type": "markdown",
   "metadata": {},
   "source": [
    "<a id='exact_flux'></a>\n",
    "\n",
    "## Step 1.g: Calculate the *exact* flux of $\\epsilon_{ijk} v^j B^k$ \\[Back to [top](#toc)\\]\n",
    "$$\\label{exact_flux}$$\n",
    "\n",
    "Here, we generate a function to analytically calculate the electric flux on the cell faces for comparison. We'll need to import the Levi-Civita tensor for this."
   ]
  },
  {
   "cell_type": "code",
   "execution_count": 8,
   "metadata": {},
   "outputs": [
    {
     "name": "stdout",
     "output_type": "stream",
     "text": [
      "Output C function calculate_E_exactD() to file Validation/calculate_E_exactD.h\n"
     ]
    }
   ],
   "source": [
    "import WeylScal4NRPy.WeylScalars_Cartesian as weyl\n",
    "# import GRHD.equations as GH\n",
    "# GH.compute_sqrtgammaDET(gamma_faceDD)\n",
    "LeviCivitaDDD = weyl.define_LeviCivitaSymbol_rank3()\n",
    "# We'll re-enable this once we move into curved spacetimes.\n",
    "# for i in range(3):\n",
    "#     for j in range(3):\n",
    "#         for k in range(3):\n",
    "#             LeviCivitaDDD[i][j][k] = LeviCivitaDDD[i][j][k] / sp.sqrt(gammadet)\n",
    "\n",
    "driftvU = ixp.zerorank1()\n",
    "for i in range(3):\n",
    "    # TODO: don't use _face metric gridfunctions once we're in curved space!\n",
    "    driftvU[i] = alpha_face*ValenciavU[i]-beta_faceU[i]\n",
    "\n",
    "A_rhsD = ixp.zerorank1()\n",
    "for i in range(3):\n",
    "    for j in range(3):\n",
    "        for k in range(3):\n",
    "            A_rhsD[i] += -LeviCivitaDDD[i][j][k]*driftvU[j]*BU[k] \n",
    "\n",
    "A_rhsD_to_print = [\\\n",
    "                   lhrh(lhs=gri.gfaccess(\"rhs_gfs\",\"AD0\"),rhs=A_rhsD[0]),\\\n",
    "                   lhrh(lhs=gri.gfaccess(\"rhs_gfs\",\"AD1\"),rhs=A_rhsD[1]),\\\n",
    "                   lhrh(lhs=gri.gfaccess(\"rhs_gfs\",\"AD2\"),rhs=A_rhsD[2]),\\\n",
    "                  ]\n",
    "\n",
    "desc = \"Calculate analytic electric field, part of the right-hand side of AD\"\n",
    "name = \"calculate_E_exactD\"\n",
    "outCfunction(\n",
    "    outfile  = os.path.join(out_dir,name+\".h\"), desc=desc, name=name,\n",
    "    params   =\"const paramstruct *params,REAL *xx[3],const REAL *auxevol_gfs,REAL *rhs_gfs\",\n",
    "    body     = fin.FD_outputC(\"returnstring\",A_rhsD_to_print,params=\"outCverbose=False\").replace(\"IDX4\",\"IDX4S\"),\n",
    "    loopopts =\"AllPoints,Read_xxs\")\n"
   ]
  },
  {
   "cell_type": "markdown",
   "metadata": {},
   "source": [
    "<a id='mainc'></a>\n",
    "\n",
    "# Step 2: `Induction_Equation_unit_test.c`: The Main C Code \\[Back to [top](#toc)\\]\n",
    "$$\\label{mainc}$$\n",
    "\n",
    "Now that we have our vector potential and analytic magnetic field to compare against, we will start writing our unit test. We'll also import common C functionality, define `REAL`, the number of ghost zones, and the faces, and set the standard macros for NRPy+ style memory access."
   ]
  },
  {
   "cell_type": "code",
   "execution_count": 9,
   "metadata": {},
   "outputs": [
    {
     "name": "stdout",
     "output_type": "stream",
     "text": [
      "Overwriting Validation//Afield_flux_unit_test.c\n"
     ]
    }
   ],
   "source": [
    "%%writefile $out_dir/Afield_flux_unit_test.c\n",
    "// These are common packages that we are likely to need.\n",
    "#include \"stdio.h\"\n",
    "#include \"stdlib.h\"\n",
    "#include \"math.h\"\n",
    "#include \"string.h\" // Needed for strncmp, etc.\n",
    "#include \"stdint.h\" // Needed for Windows GCC 6.x compatibility\n",
    "#include <time.h>   // Needed to set a random seed.\n",
    "\n",
    "#define REAL double\n",
    "#include \"declare_Cparameters_struct.h\"\n",
    "\n",
    "REAL a,b,c,d,e,f;\n",
    "\n",
    "// Standard NRPy+ memory access:\n",
    "#define IDX3S(i,j,k) ( (i) + Nxx_plus_2NGHOSTS0 * ( (j) + Nxx_plus_2NGHOSTS1 * (k) ) )\n",
    "#define IDX4S(g,i,j,k) \\\n",
    "( (i) + Nxx_plus_2NGHOSTS0 * ( (j) + Nxx_plus_2NGHOSTS1 * ( (k) + Nxx_plus_2NGHOSTS2 * (g) ) ) )\n",
    "\n",
    "#define LOOP_REGION(i0min,i0max, i1min,i1max, i2min,i2max) \\\n",
    "  for(int i2=i2min;i2<i2max;i2++) for(int i1=i1min;i1<i1max;i1++) for(int i0=i0min;i0<i0max;i0++)\n"
   ]
  },
  {
   "cell_type": "markdown",
   "metadata": {},
   "source": [
    "We'll now define the gridfunction names."
   ]
  },
  {
   "cell_type": "code",
   "execution_count": 10,
   "metadata": {},
   "outputs": [
    {
     "name": "stdout",
     "output_type": "stream",
     "text": [
      "Appending to Validation//Afield_flux_unit_test.c\n"
     ]
    }
   ],
   "source": [
    "%%writefile -a $out_dir/Afield_flux_unit_test.c\n",
    "// Let's also #define the NRPy+ gridfunctions\n",
    "#define VALENCIAVU0GF 0\n",
    "#define VALENCIAVU1GF 1\n",
    "#define VALENCIAVU2GF 2\n",
    "#define BU0GF 3\n",
    "#define BU1GF 4\n",
    "#define BU2GF 5\n",
    "#define VALENCIAV_RU0GF 6\n",
    "#define VALENCIAV_RU1GF 7\n",
    "#define VALENCIAV_RU2GF 8\n",
    "#define B_RU0GF 9\n",
    "#define B_RU1GF 10\n",
    "#define B_RU2GF 11\n",
    "#define VALENCIAV_LU0GF 12\n",
    "#define VALENCIAV_LU1GF 13\n",
    "#define VALENCIAV_LU2GF 14\n",
    "#define B_LU0GF 15\n",
    "#define B_LU1GF 16\n",
    "#define B_LU2GF 17\n",
    "#define GAMMA_FACEDD00GF 18\n",
    "#define GAMMA_FACEDD01GF 19\n",
    "#define GAMMA_FACEDD02GF 20\n",
    "#define GAMMA_FACEDD11GF 21\n",
    "#define GAMMA_FACEDD12GF 22\n",
    "#define GAMMA_FACEDD22GF 23\n",
    "#define BETA_FACEU0GF 24\n",
    "#define BETA_FACEU1GF 25\n",
    "#define BETA_FACEU2GF 26\n",
    "#define ALPHA_FACEGF 27\n",
    "#define FLUXD0GF 28\n",
    "#define FLUXD1GF 29\n",
    "#define FLUXD2GF 30\n",
    "#define NUM_AUXEVOL_GFS 31\n",
    "\n",
    "#define AD0GF 0\n",
    "#define AD1GF 1\n",
    "#define AD2GF 2\n",
    "#define NUM_EVOL_GFS 3"
   ]
  },
  {
   "cell_type": "markdown",
   "metadata": {},
   "source": [
    "Now, we'll handle the different A2B codes. There are several things to do here. First, we'll add `#include`s to the C code so that we have access to the functions we want to test. We must also create a directory and copy the files to that directory. We will choose to do this in the subfolder `A2B` relative to this tutorial.\n"
   ]
  },
  {
   "cell_type": "code",
   "execution_count": 11,
   "metadata": {},
   "outputs": [
    {
     "name": "stdout",
     "output_type": "stream",
     "text": [
      "Appending to Validation//Afield_flux_unit_test.c\n"
     ]
    }
   ],
   "source": [
    "%%writefile -a $out_dir/Afield_flux_unit_test.c\n",
    "// Some specific definitions needed for this file\n",
    "typedef struct __gf_and_gz_struct__ {\n",
    "  REAL *gf;\n",
    "  int gz_lo[4],gz_hi[4];\n",
    "} gf_and_gz_struct;\n",
    "\n",
    "const int VX=0,VY=1,VZ=2,BX=3,BY=4,BZ=5;\n",
    "const int NUM_RECONSTRUCT_GFS = 6;\n",
    "\n",
    "#include \"Afield_flux/reconstruct_set_of_prims_PPM_GRFFE_NRPy.c\"\n",
    "#include \"Afield_flux/loop_defines_reconstruction_NRPy.h\"\n",
    "\n",
    "#include \"calculate_BU.h\"\n",
    "#include \"calculate_ValenciavU.h\"\n",
    "#include \"calculate_E_exactD.h\"\n",
    "\n",
    "// These are the functions we want to test.\n",
    "#include \"Afield_flux/calculate_E_field_D0_right.h\" \n",
    "#include \"Afield_flux/calculate_E_field_D0_left.h\" \n",
    "#include \"Afield_flux/calculate_E_field_D1_right.h\" \n",
    "#include \"Afield_flux/calculate_E_field_D1_left.h\" \n",
    "#include \"Afield_flux/calculate_E_field_D2_right.h\" \n",
    "#include \"Afield_flux/calculate_E_field_D2_left.h\" \n"
   ]
  },
  {
   "cell_type": "markdown",
   "metadata": {},
   "source": [
    "Now, we'll write the main method. First, we'll set up the grid. In this test, we cannot use only one point. As we are testing a three-point stencil, we can get away with a minimal $3 \\times 3 \\times 3$ grid. Then, we'll write the A fields. After that, we'll calculate the magnetic field two ways."
   ]
  },
  {
   "cell_type": "code",
   "execution_count": 12,
   "metadata": {},
   "outputs": [
    {
     "name": "stdout",
     "output_type": "stream",
     "text": [
      "Appending to Validation//Afield_flux_unit_test.c\n"
     ]
    }
   ],
   "source": [
    "%%writefile -a $out_dir/Afield_flux_unit_test.c\n",
    "int main(int argc, const char *argv[]) {\n",
    "    paramstruct params;\n",
    "#include \"set_Cparameters_default.h\"\n",
    "\n",
    "    // Step 0c: Set free parameters, overwriting Cparameters defaults \n",
    "    //          by hand or with command-line input, as desired.\n",
    "#include \"free_parameters.h\"\n",
    "#include \"set_Cparameters-nopointer.h\"\n",
    "\n",
    "    // We'll define our grid slightly different from how we normally would. We let our outermost\n",
    "    // ghostzones coincide with xxmin and xxmax instead of the interior of the grid. This means\n",
    "    // that the ghostzone points will have identical positions so we can do convergence tests of them.    // Step 0d.ii: Set up uniform coordinate grids\n",
    "    REAL *xx[3];\n",
    "    xx[0] = (REAL *)malloc(sizeof(REAL)*Nxx_plus_2NGHOSTS0);\n",
    "    xx[1] = (REAL *)malloc(sizeof(REAL)*Nxx_plus_2NGHOSTS1);\n",
    "    xx[2] = (REAL *)malloc(sizeof(REAL)*Nxx_plus_2NGHOSTS2);\n",
    "    for(int j=0;j<Nxx_plus_2NGHOSTS0;j++) xx[0][j] = xxmin[0] + (j-NGHOSTS)*dxx0;\n",
    "    for(int j=0;j<Nxx_plus_2NGHOSTS1;j++) xx[1][j] = xxmin[1] + (j-NGHOSTS)*dxx1;\n",
    "    for(int j=0;j<Nxx_plus_2NGHOSTS2;j++) xx[2][j] = xxmin[2] + (j-NGHOSTS)*dxx2;\n",
    "    \n",
    "    //for(int j=0;j<Nxx_plus_2NGHOSTS0;j++) printf(\"x[%d] = %.5e\\n\",j,xx[0][j]);\n",
    "\n",
    "    // This is the array to which we'll write the NRPy+ variables.\n",
    "    REAL *auxevol_gfs  = (REAL *)malloc(sizeof(REAL) * NUM_AUXEVOL_GFS * Nxx_plus_2NGHOSTS2 * Nxx_plus_2NGHOSTS1 * Nxx_plus_2NGHOSTS0);\n",
    "    REAL *rhs_gfs  = (REAL *)malloc(sizeof(REAL) * NUM_EVOL_GFS * Nxx_plus_2NGHOSTS2 * Nxx_plus_2NGHOSTS1 * Nxx_plus_2NGHOSTS0);\n",
    "    REAL *rhs_exact_gfs  = (REAL *)malloc(sizeof(REAL) * NUM_EVOL_GFS * Nxx_plus_2NGHOSTS2 * Nxx_plus_2NGHOSTS1 * Nxx_plus_2NGHOSTS0);\n",
    "    \n",
    "    LOOP_REGION(0,Nxx_plus_2NGHOSTS2,0,Nxx_plus_2NGHOSTS1,0,Nxx_plus_2NGHOSTS0) {\n",
    "        auxevol_gfs[IDX4S(GAMMA_FACEDD00GF,i0,i1,i2)] = 1.0; // Flat Space\n",
    "        auxevol_gfs[IDX4S(GAMMA_FACEDD01GF,i0,i1,i2)] = 0.0; // Flat Space\n",
    "        auxevol_gfs[IDX4S(GAMMA_FACEDD02GF,i0,i1,i2)] = 0.0; // Flat Space\n",
    "        auxevol_gfs[IDX4S(GAMMA_FACEDD11GF,i0,i1,i2)] = 1.0; // Flat Space\n",
    "        auxevol_gfs[IDX4S(GAMMA_FACEDD12GF,i0,i1,i2)] = 0.0; // Flat Space\n",
    "        auxevol_gfs[IDX4S(GAMMA_FACEDD22GF,i0,i1,i2)] = 1.0; // Flat Space\n",
    "        auxevol_gfs[IDX4S(BETA_FACEU0GF,i0,i1,i2)] = 0.0; // Flat Space\n",
    "        auxevol_gfs[IDX4S(BETA_FACEU1GF,i0,i1,i2)] = 0.0; // Flat Space\n",
    "        auxevol_gfs[IDX4S(BETA_FACEU2GF,i0,i1,i2)] = 0.0; // Flat Space\n",
    "        auxevol_gfs[IDX4S(ALPHA_FACEGF,i0,i1,i2)] = 1.0; // Flat Space\n",
    "    }\n",
    "    \n",
    "    a = (double)(rand()%20-10);\n",
    "    b = (double)(rand()%20-10);\n",
    "    c = (double)(rand()%20-10);\n",
    "    d = (double)(rand()%20-10);\n",
    "    e = (double)(rand()%20-10);\n",
    "    f = (double)(rand()%20-10);\n",
    "    //printf(\"a,b,c,d,e,f = %f,%f,%f,%f,%f,%f\\n\",a,b,c,d,e,f);\n",
    "\n",
    "    // Calculate the initial data and the exact solution.\n",
    "    calculate_BU(&params,xx,auxevol_gfs);\n",
    "    calculate_ValenciavU(&params,xx,auxevol_gfs);\n",
    "    //for(int j=0;j<Nxx_plus_2NGHOSTS0;j++) xx[0][j] -= 0.5*dxx0;\n",
    "    calculate_E_exactD(&params,xx,auxevol_gfs,rhs_exact_gfs);\n",
    "\n",
    "    \n",
    "    // Set up the pointers and constants for the reconstruction procedure.\n",
    "    gf_and_gz_struct in_prims[NUM_RECONSTRUCT_GFS], out_prims_r[NUM_RECONSTRUCT_GFS], out_prims_l[NUM_RECONSTRUCT_GFS];\n",
    "    int which_prims_to_reconstruct[NUM_RECONSTRUCT_GFS],num_prims_to_reconstruct;\n",
    "\n",
    "    const int Nxxp2NG012 = Nxx_plus_2NGHOSTS0*Nxx_plus_2NGHOSTS1*Nxx_plus_2NGHOSTS2;\n",
    "    REAL temporary[Nxxp2NG012];\n",
    "\n",
    "    int ww=0;\n",
    "    in_prims[ww].gf      = auxevol_gfs + Nxxp2NG012*VALENCIAVU0GF; \n",
    "      out_prims_r[ww].gf = auxevol_gfs + Nxxp2NG012*VALENCIAV_RU0GF; \n",
    "      out_prims_l[ww].gf = auxevol_gfs + Nxxp2NG012*VALENCIAV_LU0GF; \n",
    "    ww++;\n",
    "    in_prims[ww].gf      = auxevol_gfs + Nxxp2NG012*VALENCIAVU1GF; \n",
    "      out_prims_r[ww].gf = auxevol_gfs + Nxxp2NG012*VALENCIAV_RU1GF; \n",
    "      out_prims_l[ww].gf = auxevol_gfs + Nxxp2NG012*VALENCIAV_LU1GF; \n",
    "    ww++;\n",
    "    in_prims[ww].gf      = auxevol_gfs + Nxxp2NG012*VALENCIAVU2GF; \n",
    "      out_prims_r[ww].gf = auxevol_gfs + Nxxp2NG012*VALENCIAV_RU2GF; \n",
    "      out_prims_l[ww].gf = auxevol_gfs + Nxxp2NG012*VALENCIAV_LU2GF; \n",
    "    ww++;\n",
    "    in_prims[ww].gf      = auxevol_gfs + Nxxp2NG012*BU0GF; \n",
    "      out_prims_r[ww].gf = auxevol_gfs + Nxxp2NG012*B_RU0GF; \n",
    "      out_prims_l[ww].gf = auxevol_gfs + Nxxp2NG012*B_LU0GF; \n",
    "    ww++;\n",
    "    in_prims[ww].gf      = auxevol_gfs + Nxxp2NG012*BU1GF; \n",
    "      out_prims_r[ww].gf = auxevol_gfs + Nxxp2NG012*B_RU1GF; \n",
    "      out_prims_l[ww].gf = auxevol_gfs + Nxxp2NG012*B_LU1GF; \n",
    "    ww++;\n",
    "    in_prims[ww].gf      = auxevol_gfs + Nxxp2NG012*BU2GF; \n",
    "      out_prims_r[ww].gf = auxevol_gfs + Nxxp2NG012*B_RU2GF; \n",
    "      out_prims_l[ww].gf = auxevol_gfs + Nxxp2NG012*B_LU2GF; \n",
    "    ww++;\n",
    "\n",
    "    // Prims are defined AT ALL GRIDPOINTS, so we set the # of ghostzones to zero:\n",
    "    for(int i=0;i<NUM_RECONSTRUCT_GFS;i++) for(int j=1;j<=3;j++) { in_prims[i].gz_lo[j]=0; in_prims[i].gz_hi[j]=0; }\n",
    "    // Left/right variables are not yet defined, yet we set the # of gz's to zero by default:\n",
    "    for(int i=0;i<NUM_RECONSTRUCT_GFS;i++) for(int j=1;j<=3;j++) { out_prims_r[i].gz_lo[j]=0; out_prims_r[i].gz_hi[j]=0; }\n",
    "    for(int i=0;i<NUM_RECONSTRUCT_GFS;i++) for(int j=1;j<=3;j++) { out_prims_l[i].gz_lo[j]=0; out_prims_l[i].gz_hi[j]=0; }\n",
    "\n",
    "    ww=0;\n",
    "    which_prims_to_reconstruct[ww]=VX; ww++;\n",
    "    which_prims_to_reconstruct[ww]=VY; ww++;\n",
    "    which_prims_to_reconstruct[ww]=VZ; ww++;\n",
    "    which_prims_to_reconstruct[ww]=BX; ww++;\n",
    "    which_prims_to_reconstruct[ww]=BY; ww++;\n",
    "    which_prims_to_reconstruct[ww]=BZ; ww++;\n",
    "    num_prims_to_reconstruct=ww;\n",
    "\n",
    "    // In each direction, perform the PPM reconstruction procedure.\n",
    "    // Then, add the fluxes to the RHS as appropriate.\n",
    "    for(int flux_dirn=0;flux_dirn<3;flux_dirn++) {\n",
    "        // This function is housed in the file: \"reconstruct_set_of_prims_PPM_GRFFE_NRPy.c\"\n",
    "        reconstruct_set_of_prims_PPM_GRFFE_NRPy(&params, auxevol_gfs, flux_dirn+1, num_prims_to_reconstruct,                                                          \n",
    "                                                which_prims_to_reconstruct, in_prims, out_prims_r, out_prims_l, temporary);\n",
    "        if(flux_dirn==0) {\n",
    "            calculate_E_field_D0_right(&params,xx,auxevol_gfs,rhs_gfs);\n",
    "            calculate_E_field_D0_left(&params,xx,auxevol_gfs,rhs_gfs);\n",
    "        }\n",
    "        else if(flux_dirn==1) {\n",
    "            calculate_E_field_D1_right(&params,xx,auxevol_gfs,rhs_gfs);\n",
    "            calculate_E_field_D1_left(&params,xx,auxevol_gfs,rhs_gfs);\n",
    "        }\n",
    "        else {\n",
    "            calculate_E_field_D2_right(&params,xx,auxevol_gfs,rhs_gfs);\n",
    "            calculate_E_field_D2_left(&params,xx,auxevol_gfs,rhs_gfs);\n",
    "        }\n",
    "    }\n",
    "    \n",
    "    char filename[100];\n",
    "    sprintf(filename,\"out%d-numer.txt\",Nxx0);\n",
    "    FILE *out2D = fopen(filename, \"w\");\n",
    "    // We print the difference between approximate and exact numbers.\n",
    "    int i0 = Nxx_plus_2NGHOSTS0/2;\n",
    "    int i1 = Nxx_plus_2NGHOSTS1/2;\n",
    "    int i2 = Nxx_plus_2NGHOSTS2/2;\n",
    "    \n",
    "    printf(\"Numerical: %.15e\\n\",rhs_gfs[IDX4S(AD0GF,i0,i1,i2)]);\n",
    "    printf(\"Analytic:  %.15e\\n\",rhs_exact_gfs[IDX4S(AD0GF,i0,i1,i2)]);\n",
    "    printf(\"Numerical: %.15e\\n\",rhs_gfs[IDX4S(AD1GF,i0,i1,i2)]);\n",
    "    printf(\"Analytic:  %.15e\\n\",rhs_exact_gfs[IDX4S(AD1GF,i0,i1,i2)]);\n",
    "    printf(\"Numerical: %.15e\\n\",rhs_gfs[IDX4S(AD2GF,i0,i1,i2)]);\n",
    "    printf(\"Analytic:  %.15e\\n\\n\",rhs_exact_gfs[IDX4S(AD2GF,i0,i1,i2)]);\n",
    "    \n",
    "    //printf(\"i0,i1,i2 = %d,%d,%d\\n\",i0,i1,i2);\n",
    "    fprintf(out2D,\"%.16e\\t%.16e\\t%.16e\\t %e %e %e\\n\",\n",
    "            rhs_exact_gfs[IDX4S(AD0GF,i0,i1,i2)]-rhs_gfs[IDX4S(AD0GF,i0,i1,i2)],\n",
    "            rhs_exact_gfs[IDX4S(AD1GF,i0,i1,i2)]-rhs_gfs[IDX4S(AD1GF,i0,i1,i2)],\n",
    "            rhs_exact_gfs[IDX4S(AD2GF,i0,i1,i2)]-rhs_gfs[IDX4S(AD2GF,i0,i1,i2)],\n",
    "            xx[0][i0],xx[1][i1],xx[2][i2]\n",
    "            );\n",
    "    fclose(out2D);\n",
    "\n",
    "}\n"
   ]
  },
  {
   "cell_type": "markdown",
   "metadata": {},
   "source": [
    "<a id='compile_run'></a>\n",
    "\n",
    "## Step 2.a: Compile and run the code\n",
    "\n",
    "$$\\label{compile_run}$$\n",
    "\n",
    "Now that we have our file, we can compile it and run the executable."
   ]
  },
  {
   "cell_type": "code",
   "execution_count": 13,
   "metadata": {
    "scrolled": false
   },
   "outputs": [
    {
     "name": "stdout",
     "output_type": "stream",
     "text": [
      "Now compiling, should take ~2 seconds...\n",
      "\n",
      "Compiling executable...\n",
      "Executing `gcc -Ofast -fopenmp -march=native -funroll-loops Validation/Afield_flux_unit_test.c -o Validation/Afield_flux_unit_test -lm`...\n",
      "Finished executing in 1.0149364471435547 seconds.\n",
      "Finished compilation.\n",
      "Finished in 1.0259525775909424 seconds.\n",
      "\n",
      "\n",
      "Now running...\n",
      "\n",
      "Numerical: 1.950138053436466e-01\n",
      "Analytic:  1.950011308136350e-01\n",
      "Numerical: 1.781172160356394e-03\n",
      "Analytic:  1.362031316105586e-03\n",
      "Numerical: -2.008645577931328e-01\n",
      "Analytic:  -1.963631621297406e-01\n",
      "\n",
      "Numerical: 1.950043012242935e-01\n",
      "Analytic:  1.950011308136350e-01\n",
      "Numerical: 1.575001178639817e-03\n",
      "Analytic:  1.362031316105586e-03\n",
      "Numerical: -1.986137199980445e-01\n",
      "Analytic:  -1.963631621297406e-01\n",
      "\n",
      "Finished in 0.26262760162353516 seconds.\n",
      "\n",
      "\n"
     ]
    }
   ],
   "source": [
    "import time\n",
    "\n",
    "print(\"Now compiling, should take ~2 seconds...\\n\")\n",
    "start = time.time()\n",
    "cmd.C_compile(os.path.join(out_dir,\"Afield_flux_unit_test.c\"), os.path.join(out_dir,\"Afield_flux_unit_test\"))\n",
    "end = time.time()\n",
    "print(\"Finished in \"+str(end-start)+\" seconds.\\n\\n\")\n",
    "\n",
    "print(\"Now running...\\n\")\n",
    "start = time.time()\n",
    "!./Validation/Afield_flux_unit_test 2 2 2\n",
    "# To do a convergence test, we'll also need a second grid with twice the resolution.\n",
    "!./Validation/Afield_flux_unit_test 4 4 4\n",
    "end = time.time()\n",
    "print(\"Finished in \"+str(end-start)+\" seconds.\\n\\n\")\n"
   ]
  },
  {
   "cell_type": "markdown",
   "metadata": {},
   "source": [
    "<a id='convergence'></a>\n",
    "\n",
    "# Step 3: Code validation: Verify that relative error in numerical solution converges to zero at the expected order \\[Back to [top](#toc)\\]\n",
    "$$\\label{convergence}$$\n",
    "\n",
    "For testing purposes, we have only checked these algorithms on a small grid. By construction, we have only guaranteed ourselves output from the functions we are testing at a point, so we will simply print the convergence order at that point after processing our outputs below. "
   ]
  },
  {
   "cell_type": "code",
   "execution_count": 14,
   "metadata": {},
   "outputs": [
    {
     "name": "stdout",
     "output_type": "stream",
     "text": [
      "The following quantities converge at the listed order (should be ~1 for Shock data, ~2 otherwise):\n",
      "A_rhsD0: 1.999190623480292\n",
      "A_rhsD1: 0.9767858269857116\n",
      "A_rhsD2: 1.0000897191830145\n"
     ]
    }
   ],
   "source": [
    "import numpy as np\n",
    "import matplotlib.pyplot as plt\n",
    "\n",
    "Data1 = np.loadtxt(\"out2-numer.txt\")\n",
    "Data2 = np.loadtxt(\"out4-numer.txt\")\n",
    "\n",
    "print(\"The following quantities converge at the listed order (should be ~1 for Shock data, ~2 otherwise):\")\n",
    "print(\"A_rhsD0: \"+str(np.log2(np.abs(Data1[0]/Data2[0]))))\n",
    "print(\"A_rhsD1: \"+str(np.log2(np.abs(Data1[1]/Data2[1]))))\n",
    "print(\"A_rhsD2: \"+str(np.log2(np.abs(Data1[2]/Data2[2]))))\n"
   ]
  },
  {
   "cell_type": "markdown",
   "metadata": {},
   "source": [
    "<a id='latex_pdf_output'></a>\n",
    "\n",
    "# Step 4: Output this notebook to $\\LaTeX$-formatted PDF file \\[Back to [top](#toc)\\]\n",
    "\n",
    "$$\\label{latex_pdf_output}$$\n",
    "\n",
    "The following code cell converts this Jupyter notebook into a proper, clickable $\\LaTeX$-formatted PDF file. After the cell is successfully run, the generated PDF may be found in the root NRPy+ tutorial directory, with filename\n",
    "[Tutorial-Start_to_Finish_UnitTest-GiRaFFE_NRPy-A2B.pdf](Tutorial-Start_to_Finish_UnitTest-GiRaFFE_NRPy-A2B.pdf) (Note that clicking on this link may not work; you may need to open the PDF file through another means.)"
   ]
  },
  {
   "cell_type": "code",
   "execution_count": 15,
   "metadata": {},
   "outputs": [
    {
     "name": "stdout",
     "output_type": "stream",
     "text": [
      "This is pdfTeX, Version 3.14159265-2.6-1.40.18 (TeX Live 2017/Debian) (preloaded format=pdflatex)\n",
      " restricted \\write18 enabled.\n",
      "entering extended mode\n",
      "This is pdfTeX, Version 3.14159265-2.6-1.40.18 (TeX Live 2017/Debian) (preloaded format=pdflatex)\n",
      " restricted \\write18 enabled.\n",
      "entering extended mode\n",
      "This is pdfTeX, Version 3.14159265-2.6-1.40.18 (TeX Live 2017/Debian) (preloaded format=pdflatex)\n",
      " restricted \\write18 enabled.\n",
      "entering extended mode\n"
     ]
    }
   ],
   "source": [
    "import cmdline_helper as cmd    # NRPy+: Multi-platform Python command-line interface\n",
    "cmd.output_Jupyter_notebook_to_LaTeXed_PDF(\"Tutorial-Start_to_Finish_UnitTest-GiRaFFE_NRPy-Afield_flux\")"
   ]
  }
 ],
 "metadata": {
  "kernelspec": {
   "display_name": "Python 3",
   "language": "python",
   "name": "python3"
  },
  "language_info": {
   "codemirror_mode": {
    "name": "ipython",
    "version": 3
   },
   "file_extension": ".py",
   "mimetype": "text/x-python",
   "name": "python",
   "nbconvert_exporter": "python",
   "pygments_lexer": "ipython3",
   "version": "3.8.1"
  }
 },
 "nbformat": 4,
 "nbformat_minor": 2
}
